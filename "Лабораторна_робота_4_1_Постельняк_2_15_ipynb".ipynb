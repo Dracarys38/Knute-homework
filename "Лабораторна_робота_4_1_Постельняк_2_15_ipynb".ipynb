{
  "cells": [
    {
      "cell_type": "markdown",
      "metadata": {
        "id": "view-in-github",
        "colab_type": "text"
      },
      "source": [
        "<a href=\"https://colab.research.google.com/github/Dracarys38/Knute-homework/blob/main/%22%D0%9B%D0%B0%D0%B1%D0%BE%D1%80%D0%B0%D1%82%D0%BE%D1%80%D0%BD%D0%B0_%D1%80%D0%BE%D0%B1%D0%BE%D1%82%D0%B0_4_1_%D0%9F%D0%BE%D1%81%D1%82%D0%B5%D0%BB%D1%8C%D0%BD%D1%8F%D0%BA_2_15_ipynb%22.ipynb\" target=\"_parent\"><img src=\"https://colab.research.google.com/assets/colab-badge.svg\" alt=\"Open In Colab\"/></a>"
      ]
    },
    {
      "cell_type": "markdown",
      "source": [
        "Постельняк Ігор Сергійович ФІТ 2-15"
      ],
      "metadata": {
        "id": "9Uv0HJoZccST"
      },
      "id": "9Uv0HJoZccST"
    },
    {
      "cell_type": "code",
      "source": [
        "import numpy as np\n",
        "np.__version__"
      ],
      "metadata": {
        "colab": {
          "base_uri": "https://localhost:8080/",
          "height": 35
        },
        "id": "YPxxLwntengn",
        "outputId": "139d9727-ae67-4529-c147-426baf636b48"
      },
      "id": "YPxxLwntengn",
      "execution_count": null,
      "outputs": [
        {
          "output_type": "execute_result",
          "data": {
            "text/plain": [
              "'2.0.2'"
            ],
            "application/vnd.google.colaboratory.intrinsic+json": {
              "type": "string"
            }
          },
          "metadata": {},
          "execution_count": 2
        }
      ]
    },
    {
      "cell_type": "markdown",
      "source": [
        "1. Створи матрицю 3*3, заповни її цілими випадковими числами від 1 до 5"
      ],
      "metadata": {
        "id": "5oDB2-ZbfBNb"
      },
      "id": "5oDB2-ZbfBNb"
    },
    {
      "cell_type": "code",
      "source": [
        "matrix = np.random.randint(1, 6, size=(3, 3))\n",
        "matrix"
      ],
      "metadata": {
        "colab": {
          "base_uri": "https://localhost:8080/"
        },
        "id": "bl91EOxie-vm",
        "outputId": "a0cdc5de-d9a4-474e-ff05-6397dc13f2c5"
      },
      "id": "bl91EOxie-vm",
      "execution_count": null,
      "outputs": [
        {
          "output_type": "execute_result",
          "data": {
            "text/plain": [
              "array([[2, 5, 2],\n",
              "       [3, 1, 1],\n",
              "       [3, 2, 3]])"
            ]
          },
          "metadata": {},
          "execution_count": 3
        }
      ]
    },
    {
      "cell_type": "markdown",
      "source": [
        "2. Обчислити визначник матриці"
      ],
      "metadata": {
        "id": "D4_BEDQlfKTU"
      },
      "id": "D4_BEDQlfKTU"
    },
    {
      "cell_type": "code",
      "source": [
        "det = np.linalg.det(matrix)\n",
        "det"
      ],
      "metadata": {
        "colab": {
          "base_uri": "https://localhost:8080/"
        },
        "id": "N7aCXrx3fN-m",
        "outputId": "8707a815-5e99-4e42-9126-b19323b23597"
      },
      "id": "N7aCXrx3fN-m",
      "execution_count": null,
      "outputs": [
        {
          "output_type": "execute_result",
          "data": {
            "text/plain": [
              "np.float64(-22.000000000000004)"
            ]
          },
          "metadata": {},
          "execution_count": 4
        }
      ]
    },
    {
      "cell_type": "markdown",
      "source": [
        "3. Знайти добуток всіх елементів матриці"
      ],
      "metadata": {
        "id": "efza0hIzfdv7"
      },
      "id": "efza0hIzfdv7"
    },
    {
      "cell_type": "code",
      "source": [
        "product = np.prod(matrix)\n",
        "product"
      ],
      "metadata": {
        "colab": {
          "base_uri": "https://localhost:8080/"
        },
        "id": "yIDF2ikNfeXe",
        "outputId": "6c9da9b8-b602-4e62-b667-d51bb4866ff0"
      },
      "id": "yIDF2ikNfeXe",
      "execution_count": null,
      "outputs": [
        {
          "output_type": "execute_result",
          "data": {
            "text/plain": [
              "np.int64(1080)"
            ]
          },
          "metadata": {},
          "execution_count": 5
        }
      ]
    },
    {
      "cell_type": "code",
      "source": [
        "prod_1= np.prod(matrix[0])\n",
        "prod_2 = np.prod(matrix[1])\n",
        "prod_3= np.prod(matrix[2])\n",
        "prod_1*prod_2*prod_3"
      ],
      "metadata": {
        "colab": {
          "base_uri": "https://localhost:8080/"
        },
        "id": "GABZdEXtfx7q",
        "outputId": "23396e52-9947-4d71-c778-d75f59fd428d"
      },
      "id": "GABZdEXtfx7q",
      "execution_count": null,
      "outputs": [
        {
          "output_type": "execute_result",
          "data": {
            "text/plain": [
              "np.int64(1080)"
            ]
          },
          "metadata": {},
          "execution_count": 6
        }
      ]
    },
    {
      "cell_type": "markdown",
      "source": [
        "4. Знайти суму всіх елементів матриці"
      ],
      "metadata": {
        "id": "oTlWsYMmf2hG"
      },
      "id": "oTlWsYMmf2hG"
    },
    {
      "cell_type": "code",
      "source": [
        "sum = np.sum(matrix)\n",
        "sum"
      ],
      "metadata": {
        "colab": {
          "base_uri": "https://localhost:8080/"
        },
        "id": "VWjBFmmpf5Ja",
        "outputId": "3018b5c8-491d-4bb1-d8ad-9c98cab6b75d"
      },
      "id": "VWjBFmmpf5Ja",
      "execution_count": null,
      "outputs": [
        {
          "output_type": "execute_result",
          "data": {
            "text/plain": [
              "np.int64(22)"
            ]
          },
          "metadata": {},
          "execution_count": 7
        }
      ]
    },
    {
      "cell_type": "markdown",
      "source": [
        "5. Обчислити найбільший, найменший елементи"
      ],
      "metadata": {
        "id": "0cBbZnnVf99k"
      },
      "id": "0cBbZnnVf99k"
    },
    {
      "cell_type": "code",
      "source": [
        "max_element = np.max(matrix)\n",
        "print(\"Найбільший елемент матриці:\", max_element)\n",
        "min_element = np.min(matrix)\n",
        "print(\"Найменший елемент матриці:\", min_element)"
      ],
      "metadata": {
        "colab": {
          "base_uri": "https://localhost:8080/"
        },
        "id": "eSlqYHyggA_L",
        "outputId": "e3299a43-751d-49f4-d078-a505a53cdf7e"
      },
      "id": "eSlqYHyggA_L",
      "execution_count": null,
      "outputs": [
        {
          "output_type": "stream",
          "name": "stdout",
          "text": [
            "Найбільший елемент матриці: 5\n",
            "Найменший елемент матриці: 1\n"
          ]
        }
      ]
    },
    {
      "cell_type": "markdown",
      "source": [
        "6. Знайти середнє значення елементів матриці"
      ],
      "metadata": {
        "id": "GCpF-L3dgSyW"
      },
      "id": "GCpF-L3dgSyW"
    },
    {
      "cell_type": "code",
      "source": [
        "mean = np.mean (matrix)\n",
        "print(\"Середнє значення елементів матриці:\", mean)"
      ],
      "metadata": {
        "colab": {
          "base_uri": "https://localhost:8080/"
        },
        "id": "2ZOR8Y2DgUzr",
        "outputId": "d00cc3e8-d805-4515-e132-85d2f36d2ead"
      },
      "id": "2ZOR8Y2DgUzr",
      "execution_count": null,
      "outputs": [
        {
          "output_type": "stream",
          "name": "stdout",
          "text": [
            "Середнє значення елементів матриці: 2.4444444444444446\n"
          ]
        }
      ]
    },
    {
      "cell_type": "markdown",
      "source": [
        "7. Знайти матрицю, що складена з квадратних коренів."
      ],
      "metadata": {
        "id": "CiojeBGjgpT0"
      },
      "id": "CiojeBGjgpT0"
    },
    {
      "cell_type": "code",
      "source": [
        "sqrt_matrix = np.sqrt(matrix)\n",
        "print(\"Матриця квадратних коренів:\")\n",
        "print(sqrt_matrix)"
      ],
      "metadata": {
        "colab": {
          "base_uri": "https://localhost:8080/"
        },
        "id": "UmSpGkFhgqBb",
        "outputId": "65d1475e-70f4-4c38-badc-26b79adbc9b1"
      },
      "id": "UmSpGkFhgqBb",
      "execution_count": null,
      "outputs": [
        {
          "output_type": "stream",
          "name": "stdout",
          "text": [
            "Матриця квадратних коренів:\n",
            "[[1.41421356 2.23606798 1.41421356]\n",
            " [1.73205081 1.         1.        ]\n",
            " [1.73205081 1.41421356 1.73205081]]\n"
          ]
        }
      ]
    },
    {
      "cell_type": "markdown",
      "source": [
        "8. Обчислити суму елементів кожного рядка. Відповідь записати як вектор-стовпчик"
      ],
      "metadata": {
        "id": "xapASZxGguIW"
      },
      "id": "xapASZxGguIW"
    },
    {
      "cell_type": "code",
      "source": [
        "row_sums = np.sum(matrix, axis=1).reshape(-1, 1)\n",
        "print(\"Сума елементів кожного рядка:\")\n",
        "print(row_sums)"
      ],
      "metadata": {
        "colab": {
          "base_uri": "https://localhost:8080/"
        },
        "id": "yLAY3MZ-gwWC",
        "outputId": "2b884824-26d2-4fba-95bb-af90b9b70a7e"
      },
      "id": "yLAY3MZ-gwWC",
      "execution_count": null,
      "outputs": [
        {
          "output_type": "stream",
          "name": "stdout",
          "text": [
            "Сума елементів кожного рядка:\n",
            "[[9]\n",
            " [5]\n",
            " [8]]\n"
          ]
        }
      ]
    },
    {
      "cell_type": "markdown",
      "source": [
        "9. Створити вектор, що містить 25 елементів. Заповнити числами від 0 до 9. Відсортувати числа за спаданням."
      ],
      "metadata": {
        "id": "6prbhA24g_P2"
      },
      "id": "6prbhA24g_P2"
    },
    {
      "cell_type": "code",
      "source": [
        "vector = np.random.randint(0, 10, size=25)\n",
        "print(\"Початковий вектор:\")\n",
        "print (vector)\n",
        "sorted_vector = np.sort(vector) [::-1]\n",
        "print(\"Вектор після сортування за спаданням:\")\n",
        "print(sorted_vector)"
      ],
      "metadata": {
        "colab": {
          "base_uri": "https://localhost:8080/"
        },
        "id": "TMEI_nPLhAN4",
        "outputId": "bf2db390-2ca8-4998-9221-30696ed6fca5"
      },
      "id": "TMEI_nPLhAN4",
      "execution_count": null,
      "outputs": [
        {
          "output_type": "stream",
          "name": "stdout",
          "text": [
            "Початковий вектор:\n",
            "[1 5 9 4 7 1 8 5 6 9 6 5 7 9 6 5 4 4 0 2 2 0 2 4 9]\n",
            "Вектор після сортування за спаданням:\n",
            "[9 9 9 9 8 7 7 6 6 6 5 5 5 5 4 4 4 4 2 2 2 1 1 0 0]\n"
          ]
        }
      ]
    },
    {
      "cell_type": "markdown",
      "source": [
        "10. Знайти моду, медіану, середнє, максимальне, мінімальне значення"
      ],
      "metadata": {
        "id": "TPgmN_iWhaN2"
      },
      "id": "TPgmN_iWhaN2"
    },
    {
      "cell_type": "code",
      "source": [
        "from scipy import stats\n",
        "mode = stats.mode(vector)\n",
        "median = np.median(vector)\n",
        "mean = np.mean (vector)\n",
        "max_value = np.max(vector)\n",
        "min_value = np.min(vector)\n",
        "print(\"Мода:\", mode)\n",
        "print(\"Медіана:\", median)\n",
        "print(\"Середнє:\", mean)\n",
        "print(\"Максимальне значення:\", max_value)\n",
        "print(\"Мінімальне значення:\", min_value)"
      ],
      "metadata": {
        "colab": {
          "base_uri": "https://localhost:8080/"
        },
        "id": "ODVYakCoha_9",
        "outputId": "f90a8866-7c4e-43e9-d263-48607c05de15"
      },
      "id": "ODVYakCoha_9",
      "execution_count": null,
      "outputs": [
        {
          "output_type": "stream",
          "name": "stdout",
          "text": [
            "Мода: ModeResult(mode=np.int64(4), count=np.int64(4))\n",
            "Медіана: 5.0\n",
            "Середнє: 4.8\n",
            "Максимальне значення: 9\n",
            "Мінімальне значення: 0\n"
          ]
        }
      ]
    },
    {
      "cell_type": "markdown",
      "source": [
        "11. Створити дві матриці 4*4, заповнені числами від 1 до 10. Обчислити суму, різницю, поелементний добуток, частку."
      ],
      "metadata": {
        "id": "ecpqJnHthx0F"
      },
      "id": "ecpqJnHthx0F"
    },
    {
      "cell_type": "code",
      "source": [
        "matrix1 = np.random.randint(1, 11, size=(4, 4))\n",
        "matrix2 = np.random.randint(1, 11, size=(4, 4))\n",
        "print(\"Матриця 1:\")\n",
        "print(matrix1)\n",
        "print(\"\\nМатриця 2:\")\n",
        "print(matrix2)"
      ],
      "metadata": {
        "colab": {
          "base_uri": "https://localhost:8080/"
        },
        "id": "AbWMu1dKhyl0",
        "outputId": "b32764bc-6cdb-426c-89c3-9966c8dee697"
      },
      "id": "AbWMu1dKhyl0",
      "execution_count": null,
      "outputs": [
        {
          "output_type": "stream",
          "name": "stdout",
          "text": [
            "Матриця 1:\n",
            "[[ 9  2  3  3]\n",
            " [ 9  1  9 10]\n",
            " [10  9  2  4]\n",
            " [ 1  8  8  6]]\n",
            "\n",
            "Матриця 2:\n",
            "[[ 8  3  1  7]\n",
            " [ 9  8  5  9]\n",
            " [10  4  2  8]\n",
            " [ 4  7  2  4]]\n"
          ]
        }
      ]
    },
    {
      "cell_type": "code",
      "source": [
        "matrix_sum = matrix1 + matrix2\n",
        "matrix_diff = matrix1 - matrix2\n",
        "matrix_product = matrix1 * matrix2\n",
        "print(\"\\nСума матриць:\")\n",
        "print(matrix_sum)\n",
        "print(\"\\nРізниця матриць:\")\n",
        "print(matrix_diff)\n",
        "print(\"\\nПоелементний добуток матриць:\")\n",
        "print(matrix_product)"
      ],
      "metadata": {
        "colab": {
          "base_uri": "https://localhost:8080/"
        },
        "id": "oG6fk8LMiPgH",
        "outputId": "9fb53993-a306-40f6-ba98-821535d4e02c"
      },
      "id": "oG6fk8LMiPgH",
      "execution_count": null,
      "outputs": [
        {
          "output_type": "stream",
          "name": "stdout",
          "text": [
            "\n",
            "Сума матриць:\n",
            "[[17  5  4 10]\n",
            " [18  9 14 19]\n",
            " [20 13  4 12]\n",
            " [ 5 15 10 10]]\n",
            "\n",
            "Різниця матриць:\n",
            "[[ 1 -1  2 -4]\n",
            " [ 0 -7  4  1]\n",
            " [ 0  5  0 -4]\n",
            " [-3  1  6  2]]\n",
            "\n",
            "Поелементний добуток матриць:\n",
            "[[ 72   6   3  21]\n",
            " [ 81   8  45  90]\n",
            " [100  36   4  32]\n",
            " [  4  56  16  24]]\n"
          ]
        }
      ]
    },
    {
      "cell_type": "markdown",
      "source": [
        "12. Задати вектор-рядок, що містить дійсні числа 1.0-8.0. Зробити матрицю 3*3. Помножити на вектор-рядок, що містить числа 0.0-2.0"
      ],
      "metadata": {
        "id": "EebFcwR_inLH"
      },
      "id": "EebFcwR_inLH"
    },
    {
      "cell_type": "code",
      "source": [
        "x = np.arange(9.0)\n",
        "x"
      ],
      "metadata": {
        "colab": {
          "base_uri": "https://localhost:8080/"
        },
        "id": "ecQ9IDu7itw8",
        "outputId": "9692d836-bc30-406e-9e29-0d0979e8f7eb"
      },
      "id": "ecQ9IDu7itw8",
      "execution_count": null,
      "outputs": [
        {
          "output_type": "execute_result",
          "data": {
            "text/plain": [
              "array([0., 1., 2., 3., 4., 5., 6., 7., 8.])"
            ]
          },
          "metadata": {},
          "execution_count": 17
        }
      ]
    },
    {
      "cell_type": "code",
      "source": [
        "x1 = x.reshape((3, 3))\n",
        "x1"
      ],
      "metadata": {
        "colab": {
          "base_uri": "https://localhost:8080/"
        },
        "id": "reZKcMQWi0G7",
        "outputId": "1edd54f1-4890-4320-96fd-b1d1a9bdc960"
      },
      "id": "reZKcMQWi0G7",
      "execution_count": null,
      "outputs": [
        {
          "output_type": "execute_result",
          "data": {
            "text/plain": [
              "array([[0., 1., 2.],\n",
              "       [3., 4., 5.],\n",
              "       [6., 7., 8.]])"
            ]
          },
          "metadata": {},
          "execution_count": 18
        }
      ]
    },
    {
      "cell_type": "code",
      "source": [
        "x2 = np.arange(3.0)\n",
        "x2"
      ],
      "metadata": {
        "colab": {
          "base_uri": "https://localhost:8080/"
        },
        "id": "-JAZeix1i4cB",
        "outputId": "71c07680-3b83-411d-816a-2641ad451d85"
      },
      "id": "-JAZeix1i4cB",
      "execution_count": null,
      "outputs": [
        {
          "output_type": "execute_result",
          "data": {
            "text/plain": [
              "array([0., 1., 2.])"
            ]
          },
          "metadata": {},
          "execution_count": 19
        }
      ]
    },
    {
      "cell_type": "code",
      "source": [
        "np.multiply(x1, x2)"
      ],
      "metadata": {
        "colab": {
          "base_uri": "https://localhost:8080/"
        },
        "id": "t-Ez6lCri6oT",
        "outputId": "b8c857a1-2719-4f45-c03d-9c72daa01212"
      },
      "id": "t-Ez6lCri6oT",
      "execution_count": null,
      "outputs": [
        {
          "output_type": "execute_result",
          "data": {
            "text/plain": [
              "array([[ 0.,  1.,  4.],\n",
              "       [ 0.,  4., 10.],\n",
              "       [ 0.,  7., 16.]])"
            ]
          },
          "metadata": {},
          "execution_count": 20
        }
      ]
    },
    {
      "cell_type": "markdown",
      "source": [
        "13. Задати вектор-рядок (числа 1-5). Обчислити вектор в кубі."
      ],
      "metadata": {
        "id": "3fBsutpsjGpz"
      },
      "id": "3fBsutpsjGpz"
    },
    {
      "cell_type": "code",
      "source": [
        "x1 = np.arange(6)\n",
        "x1"
      ],
      "metadata": {
        "colab": {
          "base_uri": "https://localhost:8080/"
        },
        "id": "QFUjzXhLjNpB",
        "outputId": "cb49e2e9-785b-4536-bd80-61a6b13ad866"
      },
      "id": "QFUjzXhLjNpB",
      "execution_count": null,
      "outputs": [
        {
          "output_type": "execute_result",
          "data": {
            "text/plain": [
              "array([0, 1, 2, 3, 4, 5])"
            ]
          },
          "metadata": {},
          "execution_count": 21
        }
      ]
    },
    {
      "cell_type": "code",
      "source": [
        "np.power (x1, 3)"
      ],
      "metadata": {
        "colab": {
          "base_uri": "https://localhost:8080/"
        },
        "id": "9rQtLk7rjPzi",
        "outputId": "b3920f33-bf7a-4640-817b-7d06de3810b0"
      },
      "id": "9rQtLk7rjPzi",
      "execution_count": null,
      "outputs": [
        {
          "output_type": "execute_result",
          "data": {
            "text/plain": [
              "array([  0,   1,   8,  27,  64, 125])"
            ]
          },
          "metadata": {},
          "execution_count": 22
        }
      ]
    },
    {
      "cell_type": "markdown",
      "source": [
        "14. Піднести до ступеня"
      ],
      "metadata": {
        "id": "KVh-X57njZix"
      },
      "id": "KVh-X57njZix"
    },
    {
      "cell_type": "code",
      "source": [
        "x2= np.array([1, 2, 3, 3, 2, 1])\n",
        "x1 = np.arange(6)\n",
        "x1 ** x2"
      ],
      "metadata": {
        "colab": {
          "base_uri": "https://localhost:8080/"
        },
        "id": "AJeXUg15ja5S",
        "outputId": "d1428d0e-f38f-435b-9c35-5e3af80208e1"
      },
      "id": "AJeXUg15ja5S",
      "execution_count": null,
      "outputs": [
        {
          "output_type": "execute_result",
          "data": {
            "text/plain": [
              "array([ 0,  1,  8, 27, 16,  5])"
            ]
          },
          "metadata": {},
          "execution_count": 23
        }
      ]
    }
  ],
  "metadata": {
    "kernelspec": {
      "display_name": "Python 3 (ipykernel)",
      "language": "python",
      "name": "python3"
    },
    "language_info": {
      "codemirror_mode": {
        "name": "ipython",
        "version": 3
      },
      "file_extension": ".py",
      "mimetype": "text/x-python",
      "name": "python",
      "nbconvert_exporter": "python",
      "pygments_lexer": "ipython3",
      "version": "3.9.2"
    },
    "colab": {
      "provenance": [],
      "include_colab_link": true
    }
  },
  "nbformat": 4,
  "nbformat_minor": 5
}