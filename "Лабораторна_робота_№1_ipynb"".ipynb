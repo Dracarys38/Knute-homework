{
  "nbformat": 4,
  "nbformat_minor": 0,
  "metadata": {
    "colab": {
      "provenance": [],
      "include_colab_link": true
    },
    "kernelspec": {
      "name": "python3",
      "display_name": "Python 3"
    },
    "language_info": {
      "name": "python"
    }
  },
  "cells": [
    {
      "cell_type": "markdown",
      "metadata": {
        "id": "view-in-github",
        "colab_type": "text"
      },
      "source": [
        "<a href=\"https://colab.research.google.com/github/Dracarys38/Knute-homework/blob/main/%22%D0%9B%D0%B0%D0%B1%D0%BE%D1%80%D0%B0%D1%82%D0%BE%D1%80%D0%BD%D0%B0_%D1%80%D0%BE%D0%B1%D0%BE%D1%82%D0%B0_%E2%84%961_ipynb%22%22.ipynb\" target=\"_parent\"><img src=\"https://colab.research.google.com/assets/colab-badge.svg\" alt=\"Open In Colab\"/></a>"
      ]
    },
    {
      "cell_type": "markdown",
      "source": [
        "#Тема 1.\n",
        "Похибки обчислень"
      ],
      "metadata": {
        "id": "QIS1w_NEiL7P"
      }
    },
    {
      "cell_type": "markdown",
      "source": [
        "Лабораторна робота №1\n",
        "Постельняк Ігор Сергійович\n",
        "ФІТ 2-15\n",
        "Варіант 10"
      ],
      "metadata": {
        "id": "D2pdIFA16UcS"
      }
    },
    {
      "cell_type": "markdown",
      "source": [
        "#Завдання. Обчислення відносної і абсолютної похибки"
      ],
      "metadata": {
        "id": "7ClyPDrHiprY"
      }
    },
    {
      "cell_type": "code",
      "execution_count": null,
      "metadata": {
        "colab": {
          "base_uri": "https://localhost:8080/"
        },
        "id": "f4CX7RUAiJ8a",
        "outputId": "9cfe8b9a-d52a-4514-bb55-5fd17e212eb9"
      },
      "outputs": [
        {
          "name": "stdout",
          "output_type": "stream",
          "text": [
            "Введіть наближене значенння величини X: 7.21\n",
            "Введіть абсолютну похибку вимірювання величини X: 0.002\n",
            "Введіть наближене значенння величини Y: 0.895\n",
            "Введіть абсолютну похибку вимірювання величини Y: 0.001\n"
          ]
        }
      ],
      "source": [
        "x = float(input('Введіть наближене значенння величини X: ' ))\n",
        "delta_x = float(input('Введіть абсолютну похибку вимірювання величини X: '))\n",
        "y = float(input('Введіть наближене значенння величини Y: ' ))\n",
        "delta_y = float(input('Введіть абсолютну похибку вимірювання величини Y: '))\n",
        "\n"
      ]
    },
    {
      "cell_type": "code",
      "source": [
        "omega_x = delta_x/x\n",
        "omega_y = delta_y/y\n",
        "\n",
        "print('Відносна похибка значення величини X: ', omega_x)\n",
        "print('Відносна похибка значення величини Y: ', omega_y)\n",
        "\n"
      ],
      "metadata": {
        "colab": {
          "base_uri": "https://localhost:8080/"
        },
        "id": "YiFvKKkZiiom",
        "outputId": "6228edae-2a96-4578-b5ae-3b93d9e7d31c"
      },
      "execution_count": null,
      "outputs": [
        {
          "output_type": "stream",
          "name": "stdout",
          "text": [
            "Відносна похибка значення величини X:  0.00027739251040221914\n",
            "Відносна похибка значення величини Y:  0.0011173184357541898\n"
          ]
        }
      ]
    },
    {
      "cell_type": "code",
      "source": [
        "def delta_sum(delta_x, delta_y):\n",
        "    return delta_x + delta_y\n",
        "print('Абсолютна похибка X+Y: ', delta_sum(delta_x, delta_y))\n"
      ],
      "metadata": {
        "colab": {
          "base_uri": "https://localhost:8080/"
        },
        "id": "fNac_lqCiydf",
        "outputId": "e0d3dc12-405c-4be5-dc4c-eb4a97331f11"
      },
      "execution_count": null,
      "outputs": [
        {
          "output_type": "stream",
          "name": "stdout",
          "text": [
            "Абсолютна похибка X+Y:  0.003\n"
          ]
        }
      ]
    },
    {
      "cell_type": "code",
      "source": [
        "def delta_sub(delta_x, delta_y):\n",
        "    return delta_x - delta_y\n",
        "print('Абсолютна похибка X-Y: ', delta_sub(delta_x, delta_y))\n"
      ],
      "metadata": {
        "colab": {
          "base_uri": "https://localhost:8080/"
        },
        "id": "gUQ2-FeNioLI",
        "outputId": "4cf36c1a-f269-48e7-a374-9444b7aeae6c"
      },
      "execution_count": null,
      "outputs": [
        {
          "output_type": "stream",
          "name": "stdout",
          "text": [
            "Абсолютна похибка X-Y:  0.001\n"
          ]
        }
      ]
    },
    {
      "cell_type": "code",
      "source": [
        "def delta_mult(x, y, delta_x, delta_y):\n",
        "    return delta_x*delta_y + delta_x*y + x*delta_y\n",
        "print('Абсолютна похибка X*Y: ', delta_mult(x, y, delta_x, delta_y))"
      ],
      "metadata": {
        "colab": {
          "base_uri": "https://localhost:8080/"
        },
        "id": "4aN_ZX2Qi9N5",
        "outputId": "786b0f6d-4748-4eca-feb0-2faeef2e52f8"
      },
      "execution_count": null,
      "outputs": [
        {
          "output_type": "stream",
          "name": "stdout",
          "text": [
            "Абсолютна похибка X*Y:  0.009002\n"
          ]
        }
      ]
    },
    {
      "cell_type": "code",
      "source": [
        "def delta_div(x, y, delta_x, delta_y):\n",
        "    return (delta_x + x)/(delta_y +y) - x/y\n",
        "print('Абсолютна похибка X/Y: ', delta_div(x, y, delta_x, delta_y))\n"
      ],
      "metadata": {
        "colab": {
          "base_uri": "https://localhost:8080/"
        },
        "id": "8ghAYPOOjDSY",
        "outputId": "e183626f-b6c5-41c8-8796-9574e065df09"
      },
      "execution_count": null,
      "outputs": [
        {
          "output_type": "stream",
          "name": "stdout",
          "text": [
            "Абсолютна похибка X/Y:  -0.006758778930567644\n"
          ]
        }
      ]
    },
    {
      "cell_type": "code",
      "source": [
        "def omega_sum(x, y, omega_x, omega_y):\n",
        "    return x/(x+y)*omega_x + y/(x+y)*omega_y\n",
        "print('Відносна похибка X+Y: ', omega_sum(x, y, omega_x, omega_y))\n"
      ],
      "metadata": {
        "colab": {
          "base_uri": "https://localhost:8080/"
        },
        "id": "hZP_9ElkjHb8",
        "outputId": "3eb56f43-0fe5-44e7-e268-3296f6113f3b"
      },
      "execution_count": null,
      "outputs": [
        {
          "output_type": "stream",
          "name": "stdout",
          "text": [
            "Відносна похибка X+Y:  0.0003701418877236274\n"
          ]
        }
      ]
    },
    {
      "cell_type": "code",
      "source": [
        "def omega_sub(x, y, omega_x, omega_y):\n",
        "    return x/(x-y)*omega_x - y/(x-y)*omega_y\n",
        "print('Відносна похибка X-Y: ', omega_sub(x, y, omega_x, omega_y))\n"
      ],
      "metadata": {
        "colab": {
          "base_uri": "https://localhost:8080/"
        },
        "id": "a-dSKrSCjN3f",
        "outputId": "7294cbf9-97c2-45ac-df05-5914d200979b"
      },
      "execution_count": null,
      "outputs": [
        {
          "output_type": "stream",
          "name": "stdout",
          "text": [
            "Відносна похибка X-Y:  0.00015835312747426763\n"
          ]
        }
      ]
    },
    {
      "cell_type": "code",
      "source": [
        "def omega_mult(omega_x, omega_y):\n",
        "    return omega_x*omega_y + omega_x + omega_y\n",
        "print('Відносна похибка X*Y: ', omega_mult(omega_x, omega_y))\n",
        "\n"
      ],
      "metadata": {
        "colab": {
          "base_uri": "https://localhost:8080/"
        },
        "id": "gNlz6A5wjRHR",
        "outputId": "c1d17c3d-7270-4d1c-98ae-4e80dfed1860"
      },
      "execution_count": null,
      "outputs": [
        {
          "output_type": "stream",
          "name": "stdout",
          "text": [
            "Відносна похибка X*Y:  0.0013950208819222215\n"
          ]
        }
      ]
    },
    {
      "cell_type": "code",
      "source": [
        "def omega_div(omega_x, omega_y):\n",
        "    return (omega_x - omega_y) / (omega_y + 1)\n",
        "print('Відносна похибка X/Y: ', omega_div(omega_x, omega_y))"
      ],
      "metadata": {
        "colab": {
          "base_uri": "https://localhost:8080/"
        },
        "id": "CdSAJEPRjTlz",
        "outputId": "b9df0c57-368c-4e40-c321-6622d983f5e4"
      },
      "execution_count": null,
      "outputs": [
        {
          "output_type": "stream",
          "name": "stdout",
          "text": [
            "Відносна похибка X/Y:  -0.0008389885080245688\n"
          ]
        }
      ]
    },
    {
      "cell_type": "markdown",
      "source": [
        "Приклад реалізації завдання 1"
      ],
      "metadata": {
        "id": "Be7Zm1jb9ZjU"
      }
    },
    {
      "cell_type": "code",
      "source": [
        "import numpy as np\n",
        "\n",
        "def f(x, y):\n",
        "    return np.abs(x - y) / np.abs(x)\n",
        "\n",
        "def main():\n",
        "    x1 = np.sqrt(52)  # Точне значення sqrt(52)\n",
        "    x2 = 17 / 19  # Точне значення 17/19\n",
        "    x1_1 = 7.21  # Наближене значення sqrt(52)\n",
        "    x2_2 = 0.895  # Наближене значення 17/19\n",
        "\n",
        "    rel_error_x1 = f(x1, x1_1)\n",
        "    rel_error_x2 = f(x2, x2_2)\n",
        "\n",
        "    if rel_error_x1 < rel_error_x2:\n",
        "        print(\"Перша рівність точніше з відносною похибкою:\", round(rel_error_x1, 5))\n",
        "    elif rel_error_x2 < rel_error_x1:\n",
        "        print(\"Друга рівність точніше з відносною похибкою:\", round(rel_error_x2, 5))\n",
        "    else:\n",
        "        print(\"Обидві рівності мають однакову точність з відносною похибкою:\", round(rel_error_x2, 5))\n",
        "\n",
        "if __name__ == \"__main__\":\n",
        "    main()\n"
      ],
      "metadata": {
        "colab": {
          "base_uri": "https://localhost:8080/"
        },
        "id": "k34h0Z6EjU1P",
        "outputId": "e14ef892-f898-428d-8e3e-f05ebee223bf"
      },
      "execution_count": null,
      "outputs": [
        {
          "output_type": "stream",
          "name": "stdout",
          "text": [
            "Перша рівність точніше з відносною похибкою: 0.00015\n"
          ]
        }
      ]
    },
    {
      "cell_type": "markdown",
      "source": [
        "Висновок: визначено абсолютну та відносну похибку, знайдено точнішу рівність."
      ],
      "metadata": {
        "id": "ZB8CASXQ7HYZ"
      }
    }
  ]
}