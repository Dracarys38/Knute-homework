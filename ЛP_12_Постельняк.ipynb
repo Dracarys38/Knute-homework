{
  "nbformat": 4,
  "nbformat_minor": 0,
  "metadata": {
    "colab": {
      "provenance": [],
      "include_colab_link": true
    },
    "kernelspec": {
      "name": "python3",
      "display_name": "Python 3"
    },
    "language_info": {
      "name": "python"
    }
  },
  "cells": [
    {
      "cell_type": "markdown",
      "metadata": {
        "id": "view-in-github",
        "colab_type": "text"
      },
      "source": [
        "<a href=\"https://colab.research.google.com/github/Dracarys38/Knute-homework/blob/main/%D0%9BP_12_%D0%9F%D0%BE%D1%81%D1%82%D0%B5%D0%BB%D1%8C%D0%BD%D1%8F%D0%BA.ipynb\" target=\"_parent\"><img src=\"https://colab.research.google.com/assets/colab-badge.svg\" alt=\"Open In Colab\"/></a>"
      ]
    },
    {
      "cell_type": "markdown",
      "source": [
        "Постельняк Ігор Сергійович ФІТ 2-15 Варіант 10"
      ],
      "metadata": {
        "id": "HIxdflZoI_Rj"
      }
    },
    {
      "cell_type": "markdown",
      "source": [
        "Завдання 3. Визначити інтеграм методом трапецій"
      ],
      "metadata": {
        "id": "bkVnaWJ6vO8h"
      }
    },
    {
      "cell_type": "code",
      "source": [
        "#Обчислення інтегралу методом трапецій\n",
        "\n",
        "from scipy import integrate\n",
        "import numpy as np\n",
        "\n",
        "# Задаємо функцію, яку необхідно інтегрувати\n",
        "def f(x):\n",
        "    #return 1 / x**2\n",
        "     return 1 / np.sqrt(2 * x**2 + 0.3)\n",
        "\n",
        "# Задаємо межі інтегрування та початкову кількість розбиттів\n",
        "a, b, n = 0.8, 1.7, 20\n",
        "\n",
        "# Обчислюємо значення інтегралу методом трапецій\n",
        "def trapezoidal_rule(f, a, b, n):\n",
        "    h = (b - a) / n\n",
        "    sum = 0.5 * (f(a) + f(b))\n",
        "    x = a\n",
        "\n",
        "    for i in range(1, n):\n",
        "        x += h\n",
        "        sum += f(x)\n",
        "\n",
        "    integral = h * sum\n",
        "\n",
        "    return integral\n",
        "\n",
        "# Виводимо результат методу трапецій\n",
        "integral = trapezoidal_rule(f, a, b, n)\n",
        "print(\"Trapetzia method result:\", round(integral, 5))\n",
        "\n",
        "# Перевірка за допомогою вбудованої функції\n",
        "v, err = integrate.quad(f, a, b)\n",
        "print(\"Check with SciPy quad method:\", round(v, 5))"
      ],
      "metadata": {
        "colab": {
          "base_uri": "https://localhost:8080/"
        },
        "id": "scjZgZaGxOW5",
        "outputId": "9d9a683f-eaea-429d-d64e-83b698a58860"
      },
      "execution_count": null,
      "outputs": [
        {
          "output_type": "stream",
          "name": "stdout",
          "text": [
            "Trapetzia method result: 0.50389\n",
            "Check with SciPy quad method: 0.5038\n"
          ]
        }
      ]
    },
    {
      "cell_type": "markdown",
      "source": [
        "Завдання 1. Метод прямокутників (правих, лівих і середніх)"
      ],
      "metadata": {
        "id": "fKQyEy3uv2VX"
      }
    },
    {
      "cell_type": "code",
      "source": [
        "#Обчислення інтеграла методом прямокутників\n",
        "from scipy import integrate\n",
        "import numpy as np\n",
        "\n",
        "a, b, n = 0.6, 1.5, 10\n",
        "\n",
        "h = (b - a) / n  # Крок\n",
        "\n",
        "def f1(x):\n",
        "    #return np.log10(x + 2) / x\n",
        "     return 1 / np.sqrt(2 * x + 1)\n",
        "\n",
        "# Метод лівих прямокутників\n",
        "def left_rec(f1, a, b):\n",
        "    sum = 0\n",
        "    for i in range(0, n):\n",
        "        sum += f1(a + i * h)\n",
        "    return sum * h\n",
        "\n",
        "print(\"Left rectangle:\", round(left_rec(f1, a, b), 5))\n",
        "\n",
        "# Метод правих прямокутників\n",
        "def right_rec(f1, a, b):\n",
        "    sum = 0\n",
        "    for i in range(1, n+1):\n",
        "        sum += f1(a + i * h)\n",
        "    return sum * h\n",
        "\n",
        "print(\"Right rectangle:\", round(right_rec(f1, a, b), 5))\n",
        "\n",
        "# Метод середніх прямокутників\n",
        "def aver_rec(f1, a, b):\n",
        "    sum = 0\n",
        "    for i in range(0, n):\n",
        "        sum += f1(a + (i + 0.5) * h)\n",
        "    return sum * h\n",
        "\n",
        "print(\"Average rectangle:\", round(aver_rec(f1, a, b), 5))\n",
        "\n",
        "# Перевірка за допомогою функції scipy\n",
        "v, err = integrate.quad(f1, a, b)\n",
        "print(\"Check with SciPy quad method:\", round(v, 5))\n",
        "\n"
      ],
      "metadata": {
        "colab": {
          "base_uri": "https://localhost:8080/"
        },
        "id": "jzRa6rb3v1Mu",
        "outputId": "34ab8639-4fbb-488c-c837-a998b9ddb1c3"
      },
      "execution_count": null,
      "outputs": [
        {
          "output_type": "stream",
          "name": "stdout",
          "text": [
            "Left rectangle: 0.52472\n",
            "Right rectangle: 0.50904\n",
            "Average rectangle: 0.5167\n",
            "Check with SciPy quad method: 0.51676\n"
          ]
        }
      ]
    },
    {
      "cell_type": "markdown",
      "source": [
        "Завдання 2. Метод Симпсона"
      ],
      "metadata": {
        "id": "r9xzRufQxFRO"
      }
    },
    {
      "cell_type": "code",
      "source": [
        "#Обчислення інтеграла методом Симпсона\n",
        "from scipy import integrate\n",
        "import numpy as np\n",
        "\n",
        "# Задаємо функцію, яку необхідно інтегрувати\n",
        "def f(x):\n",
        "    return np.tan(x**2 + 0.5) / (1 + 2 * x**2)\n",
        "\n",
        "# Задаємо межі інтегрування та початкову кількість розбиттів\n",
        "a, b, n = 0.4, 0.8, 8\n",
        "\n",
        "h = (b - a) / n\n",
        "\n",
        "# Обчислюємо значення інтегралу методом Симпсона\n",
        "def simpson_rule(f, a, b, n):\n",
        "    integr = f(a) + f(b)\n",
        "    for i in range(1,n):\n",
        "        k = a + i*h\n",
        "        if i%2 == 0:\n",
        "            integr += 2 * f(k)\n",
        "        else:\n",
        "            integr += 4 * f(k)\n",
        "    integr *= h/3\n",
        "    return integr\n",
        "\n",
        "\n",
        "# Виводимо результат\n",
        "print(\"Simpsone method:\", round(simpson_rule(f, a, b, n), 3))\n",
        "\n",
        "v,err = integrate.quad(f,a,b)#Перевірка\n",
        "print(\"Check for the simpsone method= \",round(v, 3))\n"
      ],
      "metadata": {
        "colab": {
          "base_uri": "https://localhost:8080/"
        },
        "id": "FnvcjErXwrQy",
        "outputId": "5be88f34-43e9-4a09-8161-9a2bd860e6e2"
      },
      "execution_count": null,
      "outputs": [
        {
          "output_type": "stream",
          "name": "stdout",
          "text": [
            "Simpsone method: 0.282\n",
            "Check for the simpsone method=  0.282\n"
          ]
        }
      ]
    }
  ]
}