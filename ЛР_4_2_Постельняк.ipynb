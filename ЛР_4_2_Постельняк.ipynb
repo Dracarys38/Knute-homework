{
  "nbformat": 4,
  "nbformat_minor": 0,
  "metadata": {
    "colab": {
      "provenance": [],
      "include_colab_link": true
    },
    "kernelspec": {
      "name": "python3",
      "display_name": "Python 3"
    },
    "language_info": {
      "name": "python"
    }
  },
  "cells": [
    {
      "cell_type": "markdown",
      "metadata": {
        "id": "view-in-github",
        "colab_type": "text"
      },
      "source": [
        "<a href=\"https://colab.research.google.com/github/Dracarys38/Knute-homework/blob/main/%D0%9B%D0%A0_4_2_%D0%9F%D0%BE%D1%81%D1%82%D0%B5%D0%BB%D1%8C%D0%BD%D1%8F%D0%BA.ipynb\" target=\"_parent\"><img src=\"https://colab.research.google.com/assets/colab-badge.svg\" alt=\"Open In Colab\"/></a>"
      ]
    },
    {
      "cell_type": "markdown",
      "source": [
        "Постельняк Ігор Сергійович, ФІТ 2-15, Варіант №10. Був присутній на парі."
      ],
      "metadata": {
        "id": "q5p7dwHk8tdD"
      }
    },
    {
      "cell_type": "code",
      "execution_count": null,
      "metadata": {
        "id": "DlhB3T_KwRie"
      },
      "outputs": [],
      "source": [
        "import numpy as np\n",
        "a = np.array([\n",
        "    [3, 2, 1],\n",
        "    [2, -1, 1],\n",
        "    [1, 5, 0],\n",
        "])\n",
        "b = np.array([[5], [6], [-3]])"
      ]
    },
    {
      "cell_type": "code",
      "source": [
        "#Матричний метод (1 спосіб)\n",
        "det_a = np.linalg.det(a)\n",
        "if det_a == 0:\n",
        "    print(\"Визначник дорівнює нулю - рішень немає\")\n",
        "else:\n",
        "  a_inv = np.linalg.inv(a)\n",
        "  print(f\"Обернена матриця до матриці A: \\r\\n {a_inv }\")\n",
        "  print(f\"Вектор рішення: \\r\\n {a_inv.dot(b)}\")"
      ],
      "metadata": {
        "colab": {
          "base_uri": "https://localhost:8080/"
        },
        "id": "p6xCePN2waI2",
        "outputId": "19b5d92a-85ca-4a9b-80f9-db4fee857934"
      },
      "execution_count": null,
      "outputs": [
        {
          "output_type": "stream",
          "name": "stdout",
          "text": [
            "Обернена матриця до матриці A: \r\n",
            " [[ 2.5 -2.5 -1.5]\n",
            " [-0.5  0.5  0.5]\n",
            " [-5.5  6.5  3.5]]\n",
            "Вектор рішення: \r\n",
            " [[ 2.]\n",
            " [-1.]\n",
            " [ 1.]]\n"
          ]
        }
      ]
    },
    {
      "cell_type": "code",
      "source": [
        "# Напиши функцію для вирішення системи матричним методом (2 спосіб)\n",
        "def solve_inv_matrix(a, b, verbose=False):\n",
        "    det = np.linalg.det(a)\n",
        "    if verbose: print(f\"Визначник матриці A: {round(det)}\")\n",
        "    if det == 0:\n",
        "        print(\"Визначник дорівнює нулю - рішень немає\")\n",
        "        return None\n",
        "\n",
        "    a_inv= np.linalg.inv(a)\n",
        "    if verbose: print(f\"Обернена матриця до матриці A: \\r\\n {a_inv }\")\n",
        "    return a_inv.dot(b)\n",
        "\n",
        "print(f\"Вектор рішення: \\r\\n {solve_inv_matrix(a, b)}\")"
      ],
      "metadata": {
        "colab": {
          "base_uri": "https://localhost:8080/"
        },
        "id": "vVOGJcfowh1Z",
        "outputId": "352fabe9-7d24-46d1-e76d-12ab6e7249f0"
      },
      "execution_count": null,
      "outputs": [
        {
          "output_type": "stream",
          "name": "stdout",
          "text": [
            "Вектор рішення: \r\n",
            " [[ 2.]\n",
            " [-1.]\n",
            " [ 1.]]\n"
          ]
        }
      ]
    },
    {
      "cell_type": "code",
      "source": [],
      "metadata": {
        "id": "UUa4Su8ODEZx"
      },
      "execution_count": null,
      "outputs": []
    },
    {
      "cell_type": "code",
      "source": [
        "#метод Крамера (1 спосіб)\n",
        "# Метод Крамера\n",
        "det_a = np.linalg.det(a)\n",
        "\n",
        "if det_a == 0:\n",
        "    print(\"Визначник дорівнює нулю — система не має єдиного розв’язку.\")\n",
        "else:\n",
        "    def replace_column(matrix, column_index, new_column):\n",
        "        new_matrix = np.copy(matrix)\n",
        "        new_matrix[:, column_index] = new_column\n",
        "        return new_matrix\n",
        "\n",
        "    # Обчислюємо Δx, Δy, Δz\n",
        "    delta_x = np.linalg.det(replace_column(a, 0, b.T))\n",
        "    delta_y = np.linalg.det(replace_column(a, 1, b.T))\n",
        "    delta_z = np.linalg.det(replace_column(a, 2, b.T))\n",
        "\n",
        "    # Обчислюємо x, y, z\n",
        "    print('x =', delta_x / det_a)\n",
        "    print('y =', delta_y / det_a)\n",
        "    print('z =', delta_z / det_a)"
      ],
      "metadata": {
        "colab": {
          "base_uri": "https://localhost:8080/"
        },
        "id": "tmzA_0CAwmds",
        "outputId": "bb04770a-7a8f-4ffc-89d1-11a16097f17b"
      },
      "execution_count": null,
      "outputs": [
        {
          "output_type": "stream",
          "name": "stdout",
          "text": [
            "x = 1.9999999999999956\n",
            "y = -0.9999999999999998\n",
            "z = 1.0000000000000073\n"
          ]
        }
      ]
    },
    {
      "cell_type": "code",
      "source": [
        "# Напиши функцію для вирішення системи методом Крамера\n",
        "def solve_cramer(a, b, verbose=False):\n",
        "    det = np.linalg.det(a)\n",
        "    if verbose: print(f\"Визначник матриці A: {round(det)}\")\n",
        "    if det == 0:\n",
        "        print(\"Визначник дорівнює нулю - рішень немає\")\n",
        "        return None\n",
        "\n",
        "    len_a = len(a)\n",
        "    x = np.zeros((len_a, 1))\n",
        "    for i in range(len_a):\n",
        "        temp = np.copy(a)\n",
        "        temp[:, [i]] = b\n",
        "        x[i, 0] = np.linalg.det(temp)/det\n",
        "\n",
        "    return x\n",
        "\n",
        "\n",
        "print(f\"Вектор рішення: \\r\\n {solve_cramer(a, b)}\")"
      ],
      "metadata": {
        "colab": {
          "base_uri": "https://localhost:8080/"
        },
        "id": "wrjoJ3pWwptY",
        "outputId": "e2b96452-4164-43d6-ff6b-85d0822ee563"
      },
      "execution_count": null,
      "outputs": [
        {
          "output_type": "stream",
          "name": "stdout",
          "text": [
            "Вектор рішення: \r\n",
            " [[ 2.]\n",
            " [-1.]\n",
            " [ 1.]]\n"
          ]
        }
      ]
    },
    {
      "cell_type": "markdown",
      "source": [
        "Перевірка"
      ],
      "metadata": {
        "id": "KLFQe9XLwtrE"
      }
    },
    {
      "cell_type": "code",
      "source": [
        "x = np.linalg.solve(a, b)\n",
        "\n",
        "print(x)"
      ],
      "metadata": {
        "colab": {
          "base_uri": "https://localhost:8080/"
        },
        "id": "H2jnfCBrwwRp",
        "outputId": "f771b94d-12f6-4b6a-b252-87a6f22f6402"
      },
      "execution_count": null,
      "outputs": [
        {
          "output_type": "stream",
          "name": "stdout",
          "text": [
            "[[ 2.]\n",
            " [-1.]\n",
            " [ 1.]]\n"
          ]
        }
      ]
    },
    {
      "cell_type": "code",
      "source": [
        "# Напиши функцію для вирішення системи методом Гауса\n",
        "def solve_gausse(a, b, verbose=False):\n",
        "    det = np.linalg.det(a)\n",
        "    if verbose: print(f\"Визначник матриці A: {round(det)}\")\n",
        "    if det == 0:\n",
        "        print(\"Визначник дорівнює нулю - рішень немає\")\n",
        "        return None\n",
        "    # Reading number of unknowns\n",
        "    n = len(b)\n",
        "    m = np.concatenate([a, b], axis=1, dtype=float)\n",
        "\n",
        "    # Applying Gauss-Jordan Elimination\n",
        "    for i in range(n):\n",
        "\n",
        "        # Swap rows to avoid division by 0\n",
        "        if m[i, i] == 0:\n",
        "            for k in range(i+1, n):\n",
        "                if m[k, k] != 0:\n",
        "                    m[[i, k], :] = m[[k, i], :]\n",
        "                    break\n",
        "\n",
        "\n",
        "        if m[i, i] != 1:\n",
        "            m[i, :] *= 1/m[i, i]\n",
        "\n",
        "        for j in range(n):\n",
        "            if i != j:\n",
        "                ratio = m[j][i]/m[i][i]\n",
        "\n",
        "                m[j, :] = m[j, :] - ratio * m[i, :]\n",
        "\n",
        "    return m[:, [-1]]\n",
        "\n",
        "print(f\"Вектор рішення: \\r\\n {solve_gausse(a, b)}\")"
      ],
      "metadata": {
        "colab": {
          "base_uri": "https://localhost:8080/"
        },
        "id": "0jnvvtjmxJPE",
        "outputId": "ff0b01e8-ea89-4152-e3f9-f1ad88924dd5"
      },
      "execution_count": null,
      "outputs": [
        {
          "output_type": "stream",
          "name": "stdout",
          "text": [
            "Вектор рішення: \r\n",
            " [[ 2.]\n",
            " [-1.]\n",
            " [ 1.]]\n"
          ]
        }
      ]
    }
  ]
}