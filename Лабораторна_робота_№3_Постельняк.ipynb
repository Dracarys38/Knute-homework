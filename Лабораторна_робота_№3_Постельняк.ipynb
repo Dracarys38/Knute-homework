{
  "nbformat": 4,
  "nbformat_minor": 0,
  "metadata": {
    "colab": {
      "provenance": [],
      "include_colab_link": true
    },
    "kernelspec": {
      "name": "python3",
      "display_name": "Python 3"
    },
    "language_info": {
      "name": "python"
    }
  },
  "cells": [
    {
      "cell_type": "markdown",
      "metadata": {
        "id": "view-in-github",
        "colab_type": "text"
      },
      "source": [
        "<a href=\"https://colab.research.google.com/github/Dracarys38/Knute-homework/blob/main/%D0%9B%D0%B0%D0%B1%D0%BE%D1%80%D0%B0%D1%82%D0%BE%D1%80%D0%BD%D0%B0_%D1%80%D0%BE%D0%B1%D0%BE%D1%82%D0%B0_%E2%84%963_%D0%9F%D0%BE%D1%81%D1%82%D0%B5%D0%BB%D1%8C%D0%BD%D1%8F%D0%BA.ipynb\" target=\"_parent\"><img src=\"https://colab.research.google.com/assets/colab-badge.svg\" alt=\"Open In Colab\"/></a>"
      ]
    },
    {
      "cell_type": "markdown",
      "source": [
        "Постельняк Ігор Сергійович ФіТ 2-15 Варіант 10"
      ],
      "metadata": {
        "id": "Q2Vyvc5RYvw0"
      }
    },
    {
      "cell_type": "markdown",
      "source": [
        "1. Метод ділення навпіл."
      ],
      "metadata": {
        "id": "VgrW9zRY0dVt"
      }
    },
    {
      "cell_type": "code",
      "execution_count": null,
      "metadata": {
        "colab": {
          "base_uri": "https://localhost:8080/"
        },
        "id": "iOTNXySVyeHy",
        "outputId": "9a7e75ce-8d53-4e82-d581-694e0cc33daf"
      },
      "outputs": [
        {
          "output_type": "stream",
          "name": "stdout",
          "text": [
            "Результати обчислень\n",
            "\n",
            "          a      F(a)         c      F(c)       b      F(b)\n",
            "0 -3.000000  0.977954 -2.000000  1.135204 -1.0000 -0.454649\n",
            "1 -2.000000  1.135204 -1.500000 -0.123480 -1.0000 -0.454649\n",
            "2 -2.000000  1.135204 -1.750000  0.405593 -1.5000 -0.123480\n",
            "3 -1.750000  0.405593 -1.625000  0.109040 -1.5000 -0.123480\n",
            "4 -1.625000  0.109040 -1.562500 -0.015587 -1.5000 -0.123480\n",
            "5 -1.625000  0.109040 -1.593750  0.044659 -1.5625 -0.015587\n",
            "6 -1.593750  0.044659 -1.578125  0.014015 -1.5625 -0.015587\n",
            "7 -1.578125  0.014015 -1.570312 -0.000917 -1.5625 -0.015587\n",
            "\n",
            "В точці с =  -1.5703125 , f(c) =  -0.0009171268569415665\n"
          ]
        }
      ],
      "source": [
        "import numpy as np\n",
        "import pandas as pd\n",
        "\n",
        "# Визначаємо функцію\n",
        "def f (x):\n",
        "    y = np.cos(x)*np.sin(x)*(x**2+x+1)\n",
        "    return y\n",
        "# Визначаємо границі відрізку\n",
        "a = -3\n",
        "b = -1\n",
        "# Визначаємо точність розв'язку\n",
        "h = 0.001\n",
        "# Поділяємо відрізок навпіл\n",
        "c = (a+b)/2\n",
        "# Зберігаємо результати обчислень\n",
        "data_A = [a]\n",
        "data_B = [b]\n",
        "data_C = [c]\n",
        "data_F_A = [f(a)]\n",
        "data_F_B = [f(b)]\n",
        "data_F_C = [f(c)]\n",
        "# Перевіряємо досягнення точності\n",
        "while abs(f(c)) > h:\n",
        "    # Звужуємо відрізок\n",
        "    if np.sign(f(c)) == np.sign(f(a)):\n",
        "        a = c\n",
        "    else:\n",
        "        b = c\n",
        "    # Поділяємо відрізок навпіл\n",
        "    c = (a+b)/2\n",
        "    # Зберігаємо результати обчислень\n",
        "    data_A.append(a)\n",
        "    data_B.append(b)\n",
        "    data_C.append(c)\n",
        "    data_F_A.append(f(a))\n",
        "    data_F_B.append(f(b))\n",
        "    data_F_C.append(f(c))\n",
        "# Відображаємо результати обчислень\n",
        "print('Результати обчислень')\n",
        "print()\n",
        "data = pd.DataFrame({'a': data_A,\n",
        "                     'F(a)': data_F_A,\n",
        "                     'c': data_C,\n",
        "                     'F(c)': data_F_C,\n",
        "                     'b': data_B,\n",
        "                     'F(b)': data_F_B})\n",
        "print(data)\n",
        "# Відображаємо наближений корінь рівняння\n",
        "print()\n",
        "print('В точці с = ', c, ', f(c) = ', f(c))"
      ]
    },
    {
      "cell_type": "markdown",
      "source": [
        "2. Метод ділення навпіл"
      ],
      "metadata": {
        "id": "5hYa7ucn0PEN"
      }
    },
    {
      "cell_type": "code",
      "source": [
        "import numpy as np\n",
        "import scipy.optimize as sp\n",
        "\n",
        "def f(x):\n",
        "    y = np.cos(x)*np.sin(x)*(x**2+x+1)\n",
        "    return y\n",
        "\n",
        "a = -3\n",
        "b = -1\n",
        "tol = 1.e-3\n",
        "\n",
        "x = sp.bisect(f, a,b,(),tol) #функція для метода\n",
        "\n",
        "print('The approximate solution x is:', x)\n",
        "print('And the value f(x) is:', f(x))"
      ],
      "metadata": {
        "colab": {
          "base_uri": "https://localhost:8080/"
        },
        "id": "ML3KEw5q0H1e",
        "outputId": "caa5acd1-43c2-4135-e8a8-e9603683b639"
      },
      "execution_count": null,
      "outputs": [
        {
          "output_type": "stream",
          "name": "stdout",
          "text": [
            "The approximate solution x is: -1.5712890625\n",
            "And the value f(x) is: 0.0009350448126615916\n"
          ]
        }
      ]
    },
    {
      "cell_type": "markdown",
      "source": [
        "3. Метод хорд"
      ],
      "metadata": {
        "id": "sYf0IvR41ufd"
      }
    },
    {
      "cell_type": "code",
      "source": [
        "import numpy as np\n",
        "import pandas as pd\n",
        "# Визначаємо функцію\n",
        "def f(x):\n",
        "    y = np.cos(x)*np.sin(x)*(x**2+x+1)\n",
        "    return y\n",
        "# Визначаємо межі відрізку\n",
        "a = -3\n",
        "b = -1\n",
        "# Визначаємо точність розв'язку\n",
        "h = 0.001\n",
        "# Точка, де хорда перетинає вісь 0x\n",
        "c = (f(a)*b-a*f(b))/(f(a)-f(b))\n",
        "\n",
        "# Зберігаємо результати обчислень\n",
        "data_A = [a]\n",
        "data_B = [b]\n",
        "data_C = [c]\n",
        "data_F_A = [f(a)]\n",
        "data_F_B = [f(b)]\n",
        "data_F_C = [f(c)]\n",
        "# Перевіряємо досягнення точності\n",
        "while abs(f(c)) > h:\n",
        "    # Звужуємо відрізок\n",
        "    if np.sign(f(c)) == np.sign(f(a)):\n",
        "        a = c\n",
        "    else:\n",
        "        b = c\n",
        "    # Точка, де хорда перетинає вісь 0x\n",
        "    c = (f(a)*b-a*f(b))/(f(a)-f(b))\n",
        "    # Зберігаємо результати обчислень\n",
        "    data_A.append(a)\n",
        "    data_B.append(b)\n",
        "    data_C.append(c)\n",
        "    data_F_A.append(f(a))\n",
        "    data_F_B.append(f(b))\n",
        "    data_F_C.append(f(c))\n",
        "# Відображаємо результати обчислень\n",
        "print('Результати обчислень')\n",
        "print()\n",
        "data = pd.DataFrame({'a': data_A, 'F(a)': data_F_A,\n",
        "                     'c': data_C, 'F(c)': data_F_C,\n",
        "                     'b': data_B, 'F(b)': data_F_B})\n",
        "print(data)\n",
        "# Відображаємо наближений корінь рівняння\n",
        "print()\n",
        "print('В точці с = ', c, ', f(c) = ', f(c))"
      ],
      "metadata": {
        "colab": {
          "base_uri": "https://localhost:8080/"
        },
        "id": "3p6i5xHK1y3l",
        "outputId": "31181ec2-d0ad-4c76-c679-62842ec24022"
      },
      "execution_count": null,
      "outputs": [
        {
          "output_type": "stream",
          "name": "stdout",
          "text": [
            "Результати обчислень\n",
            "\n",
            "          a      F(a)         c      F(c)         b      F(b)\n",
            "0 -3.000000  0.977954 -1.634717  0.129889 -1.000000 -0.454649\n",
            "1 -1.634717  0.129889 -1.493678 -0.133455 -1.000000 -0.454649\n",
            "2 -1.634717  0.129889 -1.565152 -0.010636 -1.493678 -0.133455\n",
            "3 -1.634717  0.129889 -1.570418 -0.000718 -1.565152 -0.010636\n",
            "\n",
            "В точці с =  -1.5704175737258015 , f(c) =  -0.0007180376446871882\n"
          ]
        }
      ]
    },
    {
      "cell_type": "markdown",
      "source": [
        "4. Метод Ньютона (дотичних)"
      ],
      "metadata": {
        "id": "40blPBSK2Cdm"
      }
    },
    {
      "cell_type": "code",
      "source": [
        "import numpy as np\n",
        "import pandas as pd\n",
        "# Визначаємо функцію\n",
        "def f(x):\n",
        "    y = np.cos(x)*np.sin(x)*(x**2+x+1)\n",
        "    return y\n",
        "# Визначаємо першу похідну\n",
        "def df(x):\n",
        "    y1 = -(x**2+x+1)*(np.sin(x))**2\n",
        "    y2 = (x**2+x+1)*(np.cos(x))**2\n",
        "    y3 = (2*x+1)*np.sin(x)*np.cos(x)\n",
        "    y = y1+y2+y3\n",
        "    return y\n",
        "# Визначаємо початкову точку\n",
        "c = -1.4\n",
        "# Визначаємо точність розв'язку\n",
        "h = 0.001\n",
        "# Зберігаємо результати обчислень\n",
        "data_C = [c]\n",
        "data_F_C = [f(c)]\n",
        "# Перевіряємо досягнення точності\n",
        "while abs(f(c)) > h:\n",
        "    # Точка, де дотична перетинає вісь 0x\n",
        "    c -= f(c)/df(c)\n",
        "    # Зберігаємо результати обчислень\n",
        "    data_C.append(c)\n",
        "    data_F_C.append(f(c))\n",
        "# Відображаємо результати обчислень\n",
        "print('Результати обчислень')\n",
        "print()\n",
        "data = pd.DataFrame({'c': data_C, 'F(c)': data_F_C})\n",
        "print(data)\n",
        "# Відображаємо наближений корінь рівняння\n",
        "print()\n",
        "print('В точці с = ', c, ', f(c) = ', f(c))"
      ],
      "metadata": {
        "colab": {
          "base_uri": "https://localhost:8080/"
        },
        "id": "WeGQjbjW2HDz",
        "outputId": "28bb8c53-5287-48df-ddd1-169ae7d2275f"
      },
      "execution_count": null,
      "outputs": [
        {
          "output_type": "stream",
          "name": "stdout",
          "text": [
            "Результати обчислень\n",
            "\n",
            "          c      F(c)\n",
            "0 -1.400000 -0.261291\n",
            "1 -1.623636  0.106144\n",
            "2 -1.573564  0.005266\n",
            "3 -1.570805  0.000016\n",
            "\n",
            "В точці с =  -1.5708049170979717 , f(c) =  1.6292567852764437e-05\n"
          ]
        }
      ]
    },
    {
      "cell_type": "markdown",
      "source": [
        "5. Метод Ньютона (дотичних)"
      ],
      "metadata": {
        "id": "qjI38bTp0xCo"
      }
    },
    {
      "cell_type": "code",
      "source": [
        "import numpy as np\n",
        "import scipy.optimize as sp\n",
        "\n",
        "def f(x):\n",
        "    y = np.cos(x)*np.sin(x)*(x**2+x+1)\n",
        "    return y\n",
        "\n",
        "def df(x):# Обчислення похідної\n",
        "    y1 = -(x**2+x+1)*(np.sin(x))**2\n",
        "    y2 = (x**2+x+1)*(np.cos(x))**2\n",
        "    y3 = (2*x+1)*np.sin(x)*np.cos(x)\n",
        "    y = y1+y2+y3\n",
        "    return y\n",
        "\n",
        "x0 = -1.4\n",
        "x1 = 1.4\n",
        "\n",
        "x_0 = sp.newton(f, x0, df, tol=1.e-3, maxiter=50)\n",
        "x_1 = sp.newton(f, x1, df, tol=1.e-3, maxiter=50)\n",
        "\n",
        "print('The approximate solution x is:', x_0)\n",
        "print('And the value f(x_0) is:', f(x_0))\n",
        "\n",
        "print('The approximate solution x is:', x_1)\n",
        "print('And the value f(x_0) is:', f(x_1))"
      ],
      "metadata": {
        "colab": {
          "base_uri": "https://localhost:8080/"
        },
        "id": "AonZxq_H0m6-",
        "outputId": "de5f1249-b71d-4007-d6d4-37336779a06e"
      },
      "execution_count": null,
      "outputs": [
        {
          "output_type": "stream",
          "name": "stdout",
          "text": [
            "The approximate solution x is: -1.5707963268782201\n",
            "And the value f(x_0) is: 1.5803176499052036e-10\n",
            "The approximate solution x is: 1.5707963267958693\n",
            "And the value f(x_0) is: -4.9007361645997675e-12\n"
          ]
        }
      ]
    },
    {
      "cell_type": "markdown",
      "source": [
        " # Знаходження коренів рівняння за допомогою бібліотеки SymPy"
      ],
      "metadata": {
        "id": "pvK9N9TH1QD-"
      }
    },
    {
      "cell_type": "code",
      "source": [
        "import sympy as sym\n",
        "\n",
        "x = sym.Symbol('x')\n",
        "\n",
        "y = sym.cos(x)*sym.sin(x)*(x**2+x+1)\n",
        "\n",
        "s = sym.solve(y)\n",
        "\n",
        "print(s)"
      ],
      "metadata": {
        "colab": {
          "base_uri": "https://localhost:8080/"
        },
        "id": "PuAp1WCr08qt",
        "outputId": "546a84a5-442f-40a7-8aca-1cb6c9d028e9"
      },
      "execution_count": null,
      "outputs": [
        {
          "output_type": "stream",
          "name": "stdout",
          "text": [
            "[0, pi/2, pi, 3*pi/2, -1/2 - sqrt(3)*I/2, -1/2 + sqrt(3)*I/2]\n"
          ]
        }
      ]
    },
    {
      "cell_type": "code",
      "source": [
        "import sympy as sym\n",
        "\n",
        "x, a, b, c = sym.symbols('x, a, b, c')\n",
        "\n",
        "y = a * x**2 + b * x + c\n",
        "\n",
        "s = sym.solve(y, x)\n",
        "\n",
        "print(s)"
      ],
      "metadata": {
        "colab": {
          "base_uri": "https://localhost:8080/"
        },
        "id": "Y0d-uHtp1c7r",
        "outputId": "eadb4844-f9c1-4ba0-80e5-19cf0b3ef0d7"
      },
      "execution_count": null,
      "outputs": [
        {
          "output_type": "stream",
          "name": "stdout",
          "text": [
            "[(-b - sqrt(-4*a*c + b**2))/(2*a), (-b + sqrt(-4*a*c + b**2))/(2*a)]\n"
          ]
        }
      ]
    },
    {
      "cell_type": "markdown",
      "source": [],
      "metadata": {
        "id": "mk1oBvYj1GC2"
      }
    },
    {
      "cell_type": "code",
      "source": [
        "!pip install numdifftools"
      ],
      "metadata": {
        "colab": {
          "base_uri": "https://localhost:8080/"
        },
        "id": "yiLJNuM3Cq0-",
        "outputId": "f806f450-6dc7-44c0-c460-7455d78abfc9"
      },
      "execution_count": null,
      "outputs": [
        {
          "output_type": "stream",
          "name": "stdout",
          "text": [
            "Collecting numdifftools\n",
            "  Downloading numdifftools-0.9.41-py2.py3-none-any.whl.metadata (39 kB)\n",
            "Requirement already satisfied: numpy>=1.9 in /usr/local/lib/python3.11/dist-packages (from numdifftools) (2.0.2)\n",
            "Requirement already satisfied: scipy>=0.8 in /usr/local/lib/python3.11/dist-packages (from numdifftools) (1.14.1)\n",
            "Downloading numdifftools-0.9.41-py2.py3-none-any.whl (100 kB)\n",
            "\u001b[?25l   \u001b[90m━━━━━━━━━━━━━━━━━━━━━━━━━━━━━━━━━━━━━━━━\u001b[0m \u001b[32m0.0/100.2 kB\u001b[0m \u001b[31m?\u001b[0m eta \u001b[36m-:--:--\u001b[0m\r\u001b[2K   \u001b[90m━━━━━━━━━━━━━━━━━━━━━━━━━━━━━━━━━━━━━━━━\u001b[0m \u001b[32m100.2/100.2 kB\u001b[0m \u001b[31m6.7 MB/s\u001b[0m eta \u001b[36m0:00:00\u001b[0m\n",
            "\u001b[?25hInstalling collected packages: numdifftools\n",
            "Successfully installed numdifftools-0.9.41\n"
          ]
        }
      ]
    },
    {
      "cell_type": "code",
      "source": [
        "#Лабораторна робота 2\n",
        "#Відокремлення коренів\n",
        "#Варіант 10\n",
        "import numpy as np\n",
        "import numdifftools as nd\n",
        "def f(x):\n",
        "    return x**4 - 108*x + 7\n",
        "\n",
        "\n",
        "def find_segments(): #відокремлюємо корені\n",
        "    search_range = np.arange(-10, 4, 1)\n",
        "\n",
        "    a = None\n",
        "    previous_x = None\n",
        "    current_x  = None\n",
        "    segments = []\n",
        "\n",
        "    for x in search_range:\n",
        "        x = round(x, 4)\n",
        "        current_x = f(x)\n",
        "        if previous_x != None and previous_x * current_x < 0:\n",
        "            segments.append((a, x))\n",
        "        a = x\n",
        "        previous_x = current_x\n",
        "    return segments\n",
        "\n",
        "segments = find_segments()\n",
        "for a, b in segments:\n",
        "    print(f'Found segment:  [{a}, {b}]')\n"
      ],
      "metadata": {
        "colab": {
          "base_uri": "https://localhost:8080/"
        },
        "id": "L-9dn4npCso-",
        "outputId": "ae6cff45-f77d-4ee4-cb1f-2d721a4594e9"
      },
      "execution_count": null,
      "outputs": [
        {
          "output_type": "stream",
          "name": "stdout",
          "text": [
            "Found segment:  [0, 1]\n"
          ]
        }
      ]
    },
    {
      "cell_type": "code",
      "source": [
        "import numpy as np\n",
        "import matplotlib.pyplot as plt\n",
        "\n",
        "# Визначення функції\n",
        "def f(x):\n",
        "    return x**4 - 108*x + 7\n",
        "\n",
        "# Генерація значень x\n",
        "x = np.linspace(-2, 2, 400)\n",
        "\n",
        "# Генерація значень y\n",
        "y = f(x)\n",
        "\n",
        "# Побудова графіка\n",
        "plt.figure(figsize=(8, 6))\n",
        "plt.plot(x, y, label='x**4 - 108*x + 7', color='blue')\n",
        "plt.title('Графік функції x**4 - 108*x + 7')\n",
        "plt.xlabel('x')\n",
        "plt.ylabel('f(x)')\n",
        "\n",
        "# Додавання осей з стрілками\n",
        "plt.axhline(0, color='black', linewidth=0.5)\n",
        "plt.axvline(0, color='black', linewidth=0.5)\n",
        "\n",
        "plt.text(2.05, -4, 'x', ha='center', va='center')\n",
        "plt.text(-0.3, 190, 'y', ha='center', va='center')\n",
        "\n",
        "plt.grid(True)\n",
        "plt.legend()\n",
        "plt.show()\n",
        "\n"
      ],
      "metadata": {
        "colab": {
          "base_uri": "https://localhost:8080/",
          "height": 564
        },
        "id": "7zUI3d1xZXar",
        "outputId": "bdaab14a-9078-4088-b6bb-00e99fe90195"
      },
      "execution_count": null,
      "outputs": [
        {
          "output_type": "display_data",
          "data": {
            "text/plain": [
              "<Figure size 800x600 with 1 Axes>"
            ],
            "image/png": "[encoded data removed]"
          },
          "metadata": {}
        }
      ]
    },
    {
      "cell_type": "markdown",
      "source": [
        "![image.png](data:image/png;base64,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)"
      ],
      "metadata": {
        "id": "E5i__2btZKaz"
      }
    },
    {
      "cell_type": "code",
      "source": [
        "#Лабораторна робота. Метод половинного ділення, хорд\n",
        "\n",
        "\n",
        "def rec(a, b, eps):  # метод половинного ділення\n",
        "    while (abs(a - b) > eps):\n",
        "        if f(a) * f((a + b) / 2) < 0:\n",
        "            b = (a + b) / 2\n",
        "        else:\n",
        "            a = (a + b) / 2\n",
        "        x = (a + b) / 2\n",
        "\n",
        "    print('x= ', round(x, 5), '  -   Half division method')\n"
      ],
      "metadata": {
        "id": "BgjK94O9Cfxe"
      },
      "execution_count": null,
      "outputs": []
    },
    {
      "cell_type": "code",
      "source": [
        "def hord(a, b, eps):  # метод хорд\n",
        "    derivative_f = nd.Derivative(f, n=1)\n",
        "    if f(a) * derivative_f(a) > 0:\n",
        "        x0 = a\n",
        "        xi = b\n",
        "    else:\n",
        "        x0 = b\n",
        "        xi = a\n",
        "    xi_1 = xi - (xi - x0) * f(xi) / (f(xi) - f(x0))\n",
        "    while (abs(xi_1 - xi) > eps):\n",
        "        xi = xi_1\n",
        "        xi_1 = xi - (xi - x0) * f(xi) / (f(xi) - f(x0))\n",
        "    print('x= ', round(xi_1, 5), '  -   Chord method')\n"
      ],
      "metadata": {
        "id": "Sz_KWVf7D2tL"
      },
      "execution_count": null,
      "outputs": []
    },
    {
      "cell_type": "code",
      "source": [
        "if __name__ == \"__main__\":\n",
        "    a1, b1 = 0, 1\n",
        "    eps = 0.001\n",
        "    print(\"Розв'язки на відрізку [0,1]\")\n",
        "    rec(a1, b1, eps)\n",
        "    hord(a1, b1, eps)\n"
      ],
      "metadata": {
        "id": "upx7R4yoFZj_",
        "outputId": "148c6678-d3ac-4f2a-ef83-43890b35ffc9",
        "colab": {
          "base_uri": "https://localhost:8080/"
        }
      },
      "execution_count": null,
      "outputs": [
        {
          "output_type": "stream",
          "name": "stdout",
          "text": [
            "Розв'язки на відрізку [0,1]\n",
            "x=  0.06494   -   Half division method\n",
            "x=  0.06481   -   Chord method\n"
          ]
        }
      ]
    },
    {
      "cell_type": "code",
      "source": [
        "#Лабораторна робота 3. Метод Ньютона (дотичних). Комбінований метод\n",
        "\n",
        "def nuton(a, b, eps, f):\n",
        "    df2 = nd.Derivative(f, n=2)(b)  # Отримуємо значення похідної другого порядку в точці b\n",
        "    if f(b) * df2 > 0:\n",
        "        xi = b\n",
        "    else:\n",
        "        xi = a\n",
        "    df = nd.Derivative(f, n=1)(xi)  # Отримуємо значення похідної першого порядку в точці xi\n",
        "    xi_1 = xi - f(xi) / df\n",
        "    while abs(xi_1 - xi) > eps:  # перевіряємо точність\n",
        "        xi = xi_1\n",
        "        xi_1 = xi - f(xi) / df\n",
        "    print('Метод Ньютона, x = ', xi_1.round(4))\n",
        "\n",
        "def komb(a, b, eps, f):\n",
        "    df2 = nd.Derivative(f, n=2)(a)\n",
        "    if f(a) * df2 > 0:\n",
        "        a0 = a\n",
        "        b0 = b\n",
        "    else:\n",
        "        a0 = b\n",
        "        b0 = a\n",
        "    ai = a0\n",
        "    bi = b0\n",
        "    while abs(ai - bi) > eps:\n",
        "        ai_1 = ai - f(ai) * (bi - ai) / (f(bi) - f(ai))\n",
        "        bi_1 = bi - f(bi) / nd.Derivative(f, n=1)(bi)\n",
        "        ai = ai_1\n",
        "        bi = bi_1\n",
        "    x = (ai_1 + bi_1) / 2\n",
        "\n",
        "    print('Комбінований метод, x = ', x.round(4))\n",
        "\n",
        "if __name__ == \"__main__\":\n",
        "    a1, b1 = 0, 1\n",
        "    eps = 0.001\n",
        "\n",
        "    print(\"Розв'язання на відрізку [0, 1]\")\n",
        "    nuton(a1, b1, eps, f)\n",
        "    komb(a1, b1, eps, f)\n"
      ],
      "metadata": {
        "colab": {
          "base_uri": "https://localhost:8080/"
        },
        "id": "uz6OF8g2C-vY",
        "outputId": "305f43cf-3580-4c7d-9ffc-8e8a59fa1e1f"
      },
      "execution_count": null,
      "outputs": [
        {
          "output_type": "stream",
          "name": "stdout",
          "text": [
            "Розв'язання на відрізку [0, 1]\n",
            "Метод Ньютона, x =  0.0648\n",
            "Комбінований метод, x =  0.0648\n"
          ]
        }
      ]
    }
  ]
}